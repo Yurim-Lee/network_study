{
 "cells": [
  {
   "cell_type": "markdown",
   "metadata": {},
   "source": [
    "## Dataset import"
   ]
  },
  {
   "cell_type": "code",
   "execution_count": 2685,
   "metadata": {},
   "outputs": [],
   "source": [
    "import time\n",
    "start = time.time()"
   ]
  },
  {
   "cell_type": "code",
   "execution_count": 2686,
   "metadata": {},
   "outputs": [],
   "source": [
    "import pandas as pd\n",
    "df = pd.read_csv('./sampling_dataset/CIRA_30%_train.csv')"
   ]
  },
  {
   "cell_type": "code",
   "execution_count": 2687,
   "metadata": {},
   "outputs": [],
   "source": [
    "#without sampling\n",
    "#X = df.drop(['Unnamed: 0','ResponseTimeTimeMedian','ResponseTimeTimeSkewFromMedian','Label'], axis=1)\n",
    "#y = df['Label']"
   ]
  },
  {
   "cell_type": "code",
   "execution_count": 2688,
   "metadata": {},
   "outputs": [],
   "source": [
    "#with sampling\n",
    "X = df.drop(['Unnamed: 0','Label'], axis=1)\n",
    "y = df['Label']"
   ]
  },
  {
   "cell_type": "code",
   "execution_count": 2689,
   "metadata": {},
   "outputs": [],
   "source": [
    "val = pd.read_csv('./without_sampling/CIRA_validation.csv')"
   ]
  },
  {
   "cell_type": "code",
   "execution_count": 2690,
   "metadata": {},
   "outputs": [],
   "source": [
    "X_test = val.drop(['Unnamed: 0','ResponseTimeTimeMedian','ResponseTimeTimeSkewFromMedian','Label'], axis=1)\n",
    "y_test = val['Label']"
   ]
  },
  {
   "cell_type": "code",
   "execution_count": null,
   "metadata": {},
   "outputs": [],
   "source": []
  },
  {
   "cell_type": "markdown",
   "metadata": {},
   "source": [
    "## Preprocessing"
   ]
  },
  {
   "cell_type": "code",
   "execution_count": 2691,
   "metadata": {},
   "outputs": [],
   "source": [
    "from sklearn.preprocessing import StandardScaler\n",
    "\n",
    "std = StandardScaler()"
   ]
  },
  {
   "cell_type": "code",
   "execution_count": 2692,
   "metadata": {},
   "outputs": [],
   "source": [
    "std.fit(X)\n",
    "\n",
    "# 학습 데이터 스케일링\n",
    "X_scaled = std.transform(X)\n",
    "X = X_scaled"
   ]
  },
  {
   "cell_type": "code",
   "execution_count": 2693,
   "metadata": {},
   "outputs": [],
   "source": [
    "# 학습 데이터 스케일링\n",
    "X_scaled_test = std.transform(X_test)\n",
    "X_test = X_scaled_test"
   ]
  },
  {
   "cell_type": "code",
   "execution_count": 2694,
   "metadata": {},
   "outputs": [],
   "source": [
    "#pca split data\n",
    "X_train = X[:,[0,1,5,6,7,10,11,12,13,14,15,21,22,23,24,25,26]]"
   ]
  },
  {
   "cell_type": "code",
   "execution_count": 2695,
   "metadata": {},
   "outputs": [],
   "source": [
    "X_test = X_test[:,[0,1,5,6,7,10,11,12,13,14,15,21,22,23,24,25,26]]"
   ]
  },
  {
   "cell_type": "code",
   "execution_count": null,
   "metadata": {},
   "outputs": [],
   "source": []
  },
  {
   "cell_type": "code",
   "execution_count": null,
   "metadata": {},
   "outputs": [],
   "source": []
  },
  {
   "cell_type": "markdown",
   "metadata": {},
   "source": [
    "## Logistic regression"
   ]
  },
  {
   "cell_type": "code",
   "execution_count": 2696,
   "metadata": {},
   "outputs": [],
   "source": [
    "from sklearn import datasets\n",
    "import numpy as np\n",
    "import pandas as pd\n",
    "import sklearn\n",
    "from sklearn.linear_model import LogisticRegression"
   ]
  },
  {
   "cell_type": "code",
   "execution_count": 2697,
   "metadata": {},
   "outputs": [],
   "source": [
    "#모델 만들기\n",
    "model = LogisticRegression(class_weight='balanced')\n",
    "\n",
    "param_grid = {'C': [1, 10, 100, 1000]}\n",
    "clf = sklearn.model_selection.GridSearchCV(model, param_grid)\n",
    "\n",
    "# 모델 학습\n",
    "model = model.fit(X_train, y)"
   ]
  },
  {
   "cell_type": "code",
   "execution_count": 2698,
   "metadata": {},
   "outputs": [],
   "source": [
    "# 학습시킨 모델에 test\n",
    "predictions = model.predict(X_test)"
   ]
  },
  {
   "cell_type": "code",
   "execution_count": 2699,
   "metadata": {},
   "outputs": [],
   "source": [
    "end = time.time()"
   ]
  },
  {
   "cell_type": "code",
   "execution_count": 2700,
   "metadata": {},
   "outputs": [
    {
     "name": "stdout",
     "output_type": "stream",
     "text": [
      "accuracy, recall, prcision, f1 score\n",
      "0.89877571626909\n",
      "0.9391217564870259\n",
      "0.8708931050439611\n",
      "0.8985690940617359\n"
     ]
    }
   ],
   "source": [
    "from sklearn.metrics import accuracy_score, recall_score, precision_score, f1_score\n",
    "\n",
    "print(\"accuracy, recall, prcision, f1 score\")\n",
    "print(accuracy_score(y_test, predictions))\n",
    "print(recall_score(y_test, predictions, zero_division=1))\n",
    "print(precision_score(y_test, predictions, zero_division=1))\n",
    "print(f1_score(y_test, predictions,  average='weighted'))"
   ]
  },
  {
   "cell_type": "code",
   "execution_count": 2701,
   "metadata": {},
   "outputs": [
    {
     "name": "stdout",
     "output_type": "stream",
     "text": [
      "\n",
      "0.20866131782531738\n"
     ]
    }
   ],
   "source": [
    "print(\"\")\n",
    "print(end-start)"
   ]
  },
  {
   "cell_type": "code",
   "execution_count": null,
   "metadata": {},
   "outputs": [],
   "source": []
  },
  {
   "cell_type": "code",
   "execution_count": null,
   "metadata": {},
   "outputs": [],
   "source": []
  }
 ],
 "metadata": {
  "kernelspec": {
   "display_name": "Python 3",
   "language": "python",
   "name": "python3"
  },
  "language_info": {
   "codemirror_mode": {
    "name": "ipython",
    "version": 3
   },
   "file_extension": ".py",
   "mimetype": "text/x-python",
   "name": "python",
   "nbconvert_exporter": "python",
   "pygments_lexer": "ipython3",
   "version": "3.8.10"
  }
 },
 "nbformat": 4,
 "nbformat_minor": 4
}
