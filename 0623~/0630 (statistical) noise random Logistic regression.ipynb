{
 "cells": [
  {
   "cell_type": "code",
   "execution_count": 201,
   "metadata": {},
   "outputs": [],
   "source": [
    "#feature\n",
    "#4: 5,6,8,13\n",
    "#11:0,1,2,3,4,5,6,8,9,12,13"
   ]
  },
  {
   "cell_type": "code",
   "execution_count": 202,
   "metadata": {},
   "outputs": [],
   "source": [
    "import time\n",
    "start = time.time()"
   ]
  },
  {
   "cell_type": "code",
   "execution_count": 203,
   "metadata": {},
   "outputs": [],
   "source": [
    "import numpy as np\n",
    "import random\n",
    "import pandas as pd\n",
    "from sklearn.preprocessing import StandardScaler\n",
    "import sklearn\n",
    "from sklearn.linear_model import LogisticRegression\n",
    "from sklearn.metrics import accuracy_score, recall_score, precision_score, f1_score"
   ]
  },
  {
   "cell_type": "code",
   "execution_count": 204,
   "metadata": {},
   "outputs": [],
   "source": [
    "total = 0"
   ]
  },
  {
   "cell_type": "code",
   "execution_count": 205,
   "metadata": {},
   "outputs": [
    {
     "name": "stdout",
     "output_type": "stream",
     "text": [
      "0 th iteration\n",
      "1 th iteration\n",
      "2 th iteration\n",
      "3 th iteration\n",
      "4 th iteration\n",
      "5 th iteration\n",
      "6 th iteration\n",
      "7 th iteration\n",
      "8 th iteration\n",
      "9 th iteration\n",
      "10 th iteration\n",
      "11 th iteration\n"
     ]
    },
    {
     "name": "stderr",
     "output_type": "stream",
     "text": [
      "/home/ubuntu/.local/lib/python3.8/site-packages/sklearn/linear_model/_logistic.py:814: ConvergenceWarning: lbfgs failed to converge (status=1):\n",
      "STOP: TOTAL NO. of ITERATIONS REACHED LIMIT.\n",
      "\n",
      "Increase the number of iterations (max_iter) or scale the data as shown in:\n",
      "    https://scikit-learn.org/stable/modules/preprocessing.html\n",
      "Please also refer to the documentation for alternative solver options:\n",
      "    https://scikit-learn.org/stable/modules/linear_model.html#logistic-regression\n",
      "  n_iter_i = _check_optimize_result(\n"
     ]
    },
    {
     "name": "stdout",
     "output_type": "stream",
     "text": [
      "12 th iteration\n",
      "13 th iteration\n",
      "14 th iteration\n",
      "15 th iteration\n",
      "16 th iteration\n",
      "17 th iteration\n",
      "18 th iteration\n",
      "19 th iteration\n",
      "20 th iteration\n",
      "21 th iteration\n",
      "22 th iteration\n",
      "23 th iteration\n",
      "24 th iteration\n",
      "25 th iteration\n",
      "26 th iteration\n",
      "27 th iteration\n",
      "28 th iteration\n",
      "29 th iteration\n",
      "30 th iteration\n",
      "31 th iteration\n",
      "32 th iteration\n",
      "33 th iteration\n",
      "34 th iteration\n",
      "35 th iteration\n",
      "36 th iteration\n",
      "37 th iteration\n",
      "38 th iteration\n",
      "39 th iteration\n",
      "40 th iteration\n",
      "41 th iteration\n",
      "42 th iteration\n",
      "43 th iteration\n",
      "44 th iteration\n",
      "45 th iteration\n",
      "46 th iteration\n",
      "47 th iteration\n",
      "48 th iteration\n",
      "49 th iteration\n",
      "50 th iteration\n",
      "51 th iteration\n",
      "52 th iteration\n",
      "53 th iteration\n",
      "54 th iteration\n",
      "55 th iteration\n",
      "56 th iteration\n",
      "57 th iteration\n",
      "58 th iteration\n",
      "59 th iteration\n",
      "60 th iteration\n",
      "61 th iteration\n",
      "62 th iteration\n",
      "63 th iteration\n",
      "64 th iteration\n",
      "65 th iteration\n",
      "66 th iteration\n",
      "67 th iteration\n",
      "68 th iteration\n",
      "69 th iteration\n",
      "70 th iteration\n",
      "71 th iteration\n",
      "72 th iteration\n",
      "73 th iteration\n",
      "74 th iteration\n",
      "75 th iteration\n",
      "76 th iteration\n",
      "77 th iteration\n",
      "78 th iteration\n",
      "79 th iteration\n",
      "80 th iteration\n",
      "81 th iteration\n",
      "82 th iteration\n",
      "83 th iteration\n",
      "84 th iteration\n",
      "85 th iteration\n",
      "86 th iteration\n",
      "87 th iteration\n",
      "88 th iteration\n",
      "89 th iteration\n",
      "90 th iteration\n",
      "91 th iteration\n",
      "92 th iteration\n",
      "93 th iteration\n",
      "94 th iteration\n",
      "95 th iteration\n",
      "96 th iteration\n",
      "97 th iteration\n",
      "98 th iteration\n",
      "99 th iteration\n"
     ]
    }
   ],
   "source": [
    "for i in range(100):\n",
    "    print(i, \"th iteration\")\n",
    "    #noise injection\n",
    "    sigma = 0.1\n",
    "    mu = random.randint(0,1)\n",
    "    noise = np.random.normal(mu, sigma, [23768,27])\n",
    "    df = pd.read_csv('../without_sampling/CIRA_train.csv')\n",
    "    df = df.drop(['Unnamed: 0','ResponseTimeTimeMedian','ResponseTimeTimeSkewFromMedian'], axis=1)\n",
    "    X = df.drop(['Label'], axis=1)\n",
    "    noise_X = X+noise\n",
    "    y = df['Label']\n",
    "    \n",
    "    #sampling\n",
    "    noise_XY = pd.concat([noise_X, y], axis=1)\n",
    "    sample_df = noise_XY.sample(frac=1)\n",
    "    X = sample_df.drop(['Label'], axis=1)\n",
    "    y = sample_df['Label']\n",
    "    \n",
    "    #dataset import\n",
    "    val = pd.read_csv('../without_sampling/CIRA_validation.csv')\n",
    "    X_test = val.drop(['Unnamed: 0','ResponseTimeTimeMedian','ResponseTimeTimeSkewFromMedian','Label'], axis=1)\n",
    "    y_test = val['Label']\n",
    "    \n",
    "    #preprocessing\n",
    "    std = StandardScaler()\n",
    "    std.fit(X)\n",
    "\n",
    "    X_scaled = std.transform(X)\n",
    "    X = X_scaled\n",
    "    X_scaled_test = std.transform(X_test)\n",
    "    X_test = X_scaled_test\n",
    "    \n",
    "    #feature selection\n",
    "    X_train = X[:,[]]\n",
    "    X_test = X_test[:,[0,1,2,3,4,5,6,8,9,12,13]]\n",
    "    \n",
    "    #Logistic regression\n",
    "    model = LogisticRegression(class_weight='balanced')\n",
    "\n",
    "    param_grid = {'C': [1, 10, 100, 1000]}\n",
    "    clf = sklearn.model_selection.GridSearchCV(model, param_grid)\n",
    "\n",
    "    model = model.fit(X_train, y)\n",
    "    predictions = model.predict(X_test)\n",
    "    \n",
    "    #evaluation\n",
    "    f1 = f1_score(y_test, predictions,  average='weighted')\n",
    "    total += f1"
   ]
  },
  {
   "cell_type": "code",
   "execution_count": 206,
   "metadata": {},
   "outputs": [
    {
     "data": {
      "text/plain": [
       "85.68792969951082"
      ]
     },
     "execution_count": 206,
     "metadata": {},
     "output_type": "execute_result"
    }
   ],
   "source": [
    "total"
   ]
  },
  {
   "cell_type": "code",
   "execution_count": 207,
   "metadata": {},
   "outputs": [],
   "source": [
    "end = time.time()"
   ]
  },
  {
   "cell_type": "code",
   "execution_count": 208,
   "metadata": {},
   "outputs": [],
   "source": [
    "total_time = end-start"
   ]
  },
  {
   "cell_type": "code",
   "execution_count": 209,
   "metadata": {},
   "outputs": [
    {
     "name": "stdout",
     "output_type": "stream",
     "text": [
      "average of f1 score:  0.8568792969951082\n",
      "average time:  0.23626715421676636\n"
     ]
    }
   ],
   "source": [
    "print(\"average of f1 score: \", total/100)\n",
    "print(\"average time: \", total_time/100)"
   ]
  },
  {
   "cell_type": "code",
   "execution_count": null,
   "metadata": {},
   "outputs": [],
   "source": []
  },
  {
   "cell_type": "code",
   "execution_count": null,
   "metadata": {},
   "outputs": [],
   "source": []
  }
 ],
 "metadata": {
  "kernelspec": {
   "display_name": "Python 3",
   "language": "python",
   "name": "python3"
  },
  "language_info": {
   "codemirror_mode": {
    "name": "ipython",
    "version": 3
   },
   "file_extension": ".py",
   "mimetype": "text/x-python",
   "name": "python",
   "nbconvert_exporter": "python",
   "pygments_lexer": "ipython3",
   "version": "3.8.10"
  }
 },
 "nbformat": 4,
 "nbformat_minor": 4
}
