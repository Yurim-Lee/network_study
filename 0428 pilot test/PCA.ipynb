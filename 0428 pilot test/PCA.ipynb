{
 "cells": [
  {
   "cell_type": "code",
   "execution_count": 96,
   "metadata": {},
   "outputs": [],
   "source": [
    "import pandas as pd\n",
    "df = pd.read_csv('./full_dataset.csv')"
   ]
  },
  {
   "cell_type": "code",
   "execution_count": 97,
   "metadata": {},
   "outputs": [
    {
     "data": {
      "text/html": [
       "<div>\n",
       "<style scoped>\n",
       "    .dataframe tbody tr th:only-of-type {\n",
       "        vertical-align: middle;\n",
       "    }\n",
       "\n",
       "    .dataframe tbody tr th {\n",
       "        vertical-align: top;\n",
       "    }\n",
       "\n",
       "    .dataframe thead th {\n",
       "        text-align: right;\n",
       "    }\n",
       "</style>\n",
       "<table border=\"1\" class=\"dataframe\">\n",
       "  <thead>\n",
       "    <tr style=\"text-align: right;\">\n",
       "      <th></th>\n",
       "      <th>Duration</th>\n",
       "      <th>FlowBytesSent</th>\n",
       "      <th>FlowSentRate</th>\n",
       "      <th>FlowBytesReceived</th>\n",
       "      <th>FlowReceivedRate</th>\n",
       "      <th>PacketLengthVariance</th>\n",
       "      <th>PacketLengthStandardDeviation</th>\n",
       "      <th>PacketLengthMean</th>\n",
       "      <th>PacketLengthMedian</th>\n",
       "      <th>PacketLengthMode</th>\n",
       "      <th>...</th>\n",
       "      <th>PacketTimeCoefficientofVariation</th>\n",
       "      <th>ResponseTimeTimeVariance</th>\n",
       "      <th>ResponseTimeTimeStandardDeviation</th>\n",
       "      <th>ResponseTimeTimeMean</th>\n",
       "      <th>ResponseTimeTimeMedian</th>\n",
       "      <th>ResponseTimeTimeMode</th>\n",
       "      <th>ResponseTimeTimeSkewFromMedian</th>\n",
       "      <th>ResponseTimeTimeSkewFromMode</th>\n",
       "      <th>ResponseTimeTimeCoefficientofVariation</th>\n",
       "      <th>Label</th>\n",
       "    </tr>\n",
       "  </thead>\n",
       "  <tbody>\n",
       "    <tr>\n",
       "      <th>0</th>\n",
       "      <td>95.081550</td>\n",
       "      <td>62311</td>\n",
       "      <td>655.342703</td>\n",
       "      <td>65358</td>\n",
       "      <td>687.388878</td>\n",
       "      <td>7474.676771</td>\n",
       "      <td>86.456213</td>\n",
       "      <td>135.673751</td>\n",
       "      <td>102.0</td>\n",
       "      <td>54</td>\n",
       "      <td>...</td>\n",
       "      <td>0.574626</td>\n",
       "      <td>0.001053</td>\n",
       "      <td>0.032457</td>\n",
       "      <td>0.027624</td>\n",
       "      <td>0.026854</td>\n",
       "      <td>0.026822</td>\n",
       "      <td>0.071187</td>\n",
       "      <td>0.024715</td>\n",
       "      <td>1.174948</td>\n",
       "      <td>0</td>\n",
       "    </tr>\n",
       "    <tr>\n",
       "      <th>1</th>\n",
       "      <td>122.309318</td>\n",
       "      <td>93828</td>\n",
       "      <td>767.136973</td>\n",
       "      <td>101232</td>\n",
       "      <td>827.672018</td>\n",
       "      <td>10458.118600</td>\n",
       "      <td>102.264943</td>\n",
       "      <td>141.245474</td>\n",
       "      <td>114.0</td>\n",
       "      <td>54</td>\n",
       "      <td>...</td>\n",
       "      <td>0.509047</td>\n",
       "      <td>0.001170</td>\n",
       "      <td>0.034200</td>\n",
       "      <td>0.024387</td>\n",
       "      <td>0.021043</td>\n",
       "      <td>0.026981</td>\n",
       "      <td>0.293297</td>\n",
       "      <td>-0.075845</td>\n",
       "      <td>1.402382</td>\n",
       "      <td>0</td>\n",
       "    </tr>\n",
       "    <tr>\n",
       "      <th>2</th>\n",
       "      <td>120.958413</td>\n",
       "      <td>38784</td>\n",
       "      <td>320.639127</td>\n",
       "      <td>38236</td>\n",
       "      <td>316.108645</td>\n",
       "      <td>7300.293933</td>\n",
       "      <td>85.441758</td>\n",
       "      <td>133.715278</td>\n",
       "      <td>89.0</td>\n",
       "      <td>54</td>\n",
       "      <td>...</td>\n",
       "      <td>0.732636</td>\n",
       "      <td>0.000785</td>\n",
       "      <td>0.028021</td>\n",
       "      <td>0.029238</td>\n",
       "      <td>0.026922</td>\n",
       "      <td>0.026855</td>\n",
       "      <td>0.248064</td>\n",
       "      <td>0.085061</td>\n",
       "      <td>0.958348</td>\n",
       "      <td>0</td>\n",
       "    </tr>\n",
       "    <tr>\n",
       "      <th>3</th>\n",
       "      <td>110.501080</td>\n",
       "      <td>61993</td>\n",
       "      <td>561.017141</td>\n",
       "      <td>69757</td>\n",
       "      <td>631.278898</td>\n",
       "      <td>8499.282518</td>\n",
       "      <td>92.191553</td>\n",
       "      <td>139.123548</td>\n",
       "      <td>114.0</td>\n",
       "      <td>54</td>\n",
       "      <td>...</td>\n",
       "      <td>0.646859</td>\n",
       "      <td>0.000411</td>\n",
       "      <td>0.020274</td>\n",
       "      <td>0.019925</td>\n",
       "      <td>0.019268</td>\n",
       "      <td>0.026918</td>\n",
       "      <td>0.097199</td>\n",
       "      <td>-0.344926</td>\n",
       "      <td>1.017535</td>\n",
       "      <td>0</td>\n",
       "    </tr>\n",
       "    <tr>\n",
       "      <th>4</th>\n",
       "      <td>54.229891</td>\n",
       "      <td>83641</td>\n",
       "      <td>1542.341289</td>\n",
       "      <td>76804</td>\n",
       "      <td>1416.266907</td>\n",
       "      <td>8052.745751</td>\n",
       "      <td>89.737092</td>\n",
       "      <td>138.913420</td>\n",
       "      <td>114.0</td>\n",
       "      <td>114</td>\n",
       "      <td>...</td>\n",
       "      <td>0.507334</td>\n",
       "      <td>0.079079</td>\n",
       "      <td>0.281209</td>\n",
       "      <td>0.025930</td>\n",
       "      <td>0.000046</td>\n",
       "      <td>0.000021</td>\n",
       "      <td>0.276133</td>\n",
       "      <td>0.092135</td>\n",
       "      <td>10.844829</td>\n",
       "      <td>0</td>\n",
       "    </tr>\n",
       "    <tr>\n",
       "      <th>...</th>\n",
       "      <td>...</td>\n",
       "      <td>...</td>\n",
       "      <td>...</td>\n",
       "      <td>...</td>\n",
       "      <td>...</td>\n",
       "      <td>...</td>\n",
       "      <td>...</td>\n",
       "      <td>...</td>\n",
       "      <td>...</td>\n",
       "      <td>...</td>\n",
       "      <td>...</td>\n",
       "      <td>...</td>\n",
       "      <td>...</td>\n",
       "      <td>...</td>\n",
       "      <td>...</td>\n",
       "      <td>...</td>\n",
       "      <td>...</td>\n",
       "      <td>...</td>\n",
       "      <td>...</td>\n",
       "      <td>...</td>\n",
       "      <td>...</td>\n",
       "    </tr>\n",
       "    <tr>\n",
       "      <th>39609</th>\n",
       "      <td>120.489229</td>\n",
       "      <td>24155</td>\n",
       "      <td>200.474351</td>\n",
       "      <td>39526</td>\n",
       "      <td>328.045920</td>\n",
       "      <td>40999.197040</td>\n",
       "      <td>202.482585</td>\n",
       "      <td>168.915119</td>\n",
       "      <td>148.0</td>\n",
       "      <td>68</td>\n",
       "      <td>...</td>\n",
       "      <td>0.675699</td>\n",
       "      <td>0.104322</td>\n",
       "      <td>0.322989</td>\n",
       "      <td>0.184579</td>\n",
       "      <td>0.026514</td>\n",
       "      <td>0.026358</td>\n",
       "      <td>1.468147</td>\n",
       "      <td>0.489865</td>\n",
       "      <td>1.749867</td>\n",
       "      <td>1</td>\n",
       "    </tr>\n",
       "    <tr>\n",
       "      <th>39610</th>\n",
       "      <td>120.522576</td>\n",
       "      <td>51632</td>\n",
       "      <td>428.401066</td>\n",
       "      <td>32080</td>\n",
       "      <td>266.174198</td>\n",
       "      <td>24846.903090</td>\n",
       "      <td>157.629005</td>\n",
       "      <td>195.132867</td>\n",
       "      <td>180.0</td>\n",
       "      <td>68</td>\n",
       "      <td>...</td>\n",
       "      <td>0.514797</td>\n",
       "      <td>0.179608</td>\n",
       "      <td>0.423802</td>\n",
       "      <td>0.259088</td>\n",
       "      <td>0.000587</td>\n",
       "      <td>0.000017</td>\n",
       "      <td>1.829869</td>\n",
       "      <td>0.611301</td>\n",
       "      <td>1.635747</td>\n",
       "      <td>1</td>\n",
       "    </tr>\n",
       "    <tr>\n",
       "      <th>39611</th>\n",
       "      <td>120.360950</td>\n",
       "      <td>47923</td>\n",
       "      <td>398.160699</td>\n",
       "      <td>88167</td>\n",
       "      <td>732.521636</td>\n",
       "      <td>33856.106820</td>\n",
       "      <td>184.000290</td>\n",
       "      <td>243.017857</td>\n",
       "      <td>257.0</td>\n",
       "      <td>68</td>\n",
       "      <td>...</td>\n",
       "      <td>0.569166</td>\n",
       "      <td>0.027457</td>\n",
       "      <td>0.165701</td>\n",
       "      <td>0.091486</td>\n",
       "      <td>0.026495</td>\n",
       "      <td>0.026402</td>\n",
       "      <td>1.176648</td>\n",
       "      <td>0.392777</td>\n",
       "      <td>1.811224</td>\n",
       "      <td>1</td>\n",
       "    </tr>\n",
       "    <tr>\n",
       "      <th>39612</th>\n",
       "      <td>120.608554</td>\n",
       "      <td>44979</td>\n",
       "      <td>372.933747</td>\n",
       "      <td>86529</td>\n",
       "      <td>717.436675</td>\n",
       "      <td>33823.060610</td>\n",
       "      <td>183.910469</td>\n",
       "      <td>250.015209</td>\n",
       "      <td>257.0</td>\n",
       "      <td>68</td>\n",
       "      <td>...</td>\n",
       "      <td>0.576832</td>\n",
       "      <td>0.032776</td>\n",
       "      <td>0.181041</td>\n",
       "      <td>0.090967</td>\n",
       "      <td>0.026498</td>\n",
       "      <td>0.026442</td>\n",
       "      <td>1.068310</td>\n",
       "      <td>0.356412</td>\n",
       "      <td>1.990176</td>\n",
       "      <td>1</td>\n",
       "    </tr>\n",
       "    <tr>\n",
       "      <th>39613</th>\n",
       "      <td>120.642706</td>\n",
       "      <td>45883</td>\n",
       "      <td>380.321376</td>\n",
       "      <td>89641</td>\n",
       "      <td>743.028758</td>\n",
       "      <td>33324.590930</td>\n",
       "      <td>182.550242</td>\n",
       "      <td>258.633588</td>\n",
       "      <td>257.0</td>\n",
       "      <td>68</td>\n",
       "      <td>...</td>\n",
       "      <td>0.595560</td>\n",
       "      <td>0.015896</td>\n",
       "      <td>0.126080</td>\n",
       "      <td>0.062919</td>\n",
       "      <td>0.026488</td>\n",
       "      <td>0.026410</td>\n",
       "      <td>0.866851</td>\n",
       "      <td>0.289569</td>\n",
       "      <td>2.003853</td>\n",
       "      <td>1</td>\n",
       "    </tr>\n",
       "  </tbody>\n",
       "</table>\n",
       "<p>39614 rows × 30 columns</p>\n",
       "</div>"
      ],
      "text/plain": [
       "         Duration  FlowBytesSent  FlowSentRate  FlowBytesReceived  \\\n",
       "0       95.081550          62311    655.342703              65358   \n",
       "1      122.309318          93828    767.136973             101232   \n",
       "2      120.958413          38784    320.639127              38236   \n",
       "3      110.501080          61993    561.017141              69757   \n",
       "4       54.229891          83641   1542.341289              76804   \n",
       "...           ...            ...           ...                ...   \n",
       "39609  120.489229          24155    200.474351              39526   \n",
       "39610  120.522576          51632    428.401066              32080   \n",
       "39611  120.360950          47923    398.160699              88167   \n",
       "39612  120.608554          44979    372.933747              86529   \n",
       "39613  120.642706          45883    380.321376              89641   \n",
       "\n",
       "       FlowReceivedRate  PacketLengthVariance  PacketLengthStandardDeviation  \\\n",
       "0            687.388878           7474.676771                      86.456213   \n",
       "1            827.672018          10458.118600                     102.264943   \n",
       "2            316.108645           7300.293933                      85.441758   \n",
       "3            631.278898           8499.282518                      92.191553   \n",
       "4           1416.266907           8052.745751                      89.737092   \n",
       "...                 ...                   ...                            ...   \n",
       "39609        328.045920          40999.197040                     202.482585   \n",
       "39610        266.174198          24846.903090                     157.629005   \n",
       "39611        732.521636          33856.106820                     184.000290   \n",
       "39612        717.436675          33823.060610                     183.910469   \n",
       "39613        743.028758          33324.590930                     182.550242   \n",
       "\n",
       "       PacketLengthMean  PacketLengthMedian  PacketLengthMode  ...  \\\n",
       "0            135.673751               102.0                54  ...   \n",
       "1            141.245474               114.0                54  ...   \n",
       "2            133.715278                89.0                54  ...   \n",
       "3            139.123548               114.0                54  ...   \n",
       "4            138.913420               114.0               114  ...   \n",
       "...                 ...                 ...               ...  ...   \n",
       "39609        168.915119               148.0                68  ...   \n",
       "39610        195.132867               180.0                68  ...   \n",
       "39611        243.017857               257.0                68  ...   \n",
       "39612        250.015209               257.0                68  ...   \n",
       "39613        258.633588               257.0                68  ...   \n",
       "\n",
       "       PacketTimeCoefficientofVariation  ResponseTimeTimeVariance  \\\n",
       "0                              0.574626                  0.001053   \n",
       "1                              0.509047                  0.001170   \n",
       "2                              0.732636                  0.000785   \n",
       "3                              0.646859                  0.000411   \n",
       "4                              0.507334                  0.079079   \n",
       "...                                 ...                       ...   \n",
       "39609                          0.675699                  0.104322   \n",
       "39610                          0.514797                  0.179608   \n",
       "39611                          0.569166                  0.027457   \n",
       "39612                          0.576832                  0.032776   \n",
       "39613                          0.595560                  0.015896   \n",
       "\n",
       "       ResponseTimeTimeStandardDeviation  ResponseTimeTimeMean  \\\n",
       "0                               0.032457              0.027624   \n",
       "1                               0.034200              0.024387   \n",
       "2                               0.028021              0.029238   \n",
       "3                               0.020274              0.019925   \n",
       "4                               0.281209              0.025930   \n",
       "...                                  ...                   ...   \n",
       "39609                           0.322989              0.184579   \n",
       "39610                           0.423802              0.259088   \n",
       "39611                           0.165701              0.091486   \n",
       "39612                           0.181041              0.090967   \n",
       "39613                           0.126080              0.062919   \n",
       "\n",
       "       ResponseTimeTimeMedian  ResponseTimeTimeMode  \\\n",
       "0                    0.026854              0.026822   \n",
       "1                    0.021043              0.026981   \n",
       "2                    0.026922              0.026855   \n",
       "3                    0.019268              0.026918   \n",
       "4                    0.000046              0.000021   \n",
       "...                       ...                   ...   \n",
       "39609                0.026514              0.026358   \n",
       "39610                0.000587              0.000017   \n",
       "39611                0.026495              0.026402   \n",
       "39612                0.026498              0.026442   \n",
       "39613                0.026488              0.026410   \n",
       "\n",
       "       ResponseTimeTimeSkewFromMedian  ResponseTimeTimeSkewFromMode  \\\n",
       "0                            0.071187                      0.024715   \n",
       "1                            0.293297                     -0.075845   \n",
       "2                            0.248064                      0.085061   \n",
       "3                            0.097199                     -0.344926   \n",
       "4                            0.276133                      0.092135   \n",
       "...                               ...                           ...   \n",
       "39609                        1.468147                      0.489865   \n",
       "39610                        1.829869                      0.611301   \n",
       "39611                        1.176648                      0.392777   \n",
       "39612                        1.068310                      0.356412   \n",
       "39613                        0.866851                      0.289569   \n",
       "\n",
       "       ResponseTimeTimeCoefficientofVariation  Label  \n",
       "0                                    1.174948      0  \n",
       "1                                    1.402382      0  \n",
       "2                                    0.958348      0  \n",
       "3                                    1.017535      0  \n",
       "4                                   10.844829      0  \n",
       "...                                       ...    ...  \n",
       "39609                                1.749867      1  \n",
       "39610                                1.635747      1  \n",
       "39611                                1.811224      1  \n",
       "39612                                1.990176      1  \n",
       "39613                                2.003853      1  \n",
       "\n",
       "[39614 rows x 30 columns]"
      ]
     },
     "execution_count": 97,
     "metadata": {},
     "output_type": "execute_result"
    }
   ],
   "source": [
    "df"
   ]
  },
  {
   "cell_type": "code",
   "execution_count": 98,
   "metadata": {},
   "outputs": [],
   "source": [
    "X = df.drop(['ResponseTimeTimeMedian','ResponseTimeTimeSkewFromMedian','Label'], axis=1)\n",
    "y = df['Label']"
   ]
  },
  {
   "cell_type": "markdown",
   "metadata": {},
   "source": [
    "Dataset split"
   ]
  },
  {
   "cell_type": "code",
   "execution_count": 99,
   "metadata": {},
   "outputs": [],
   "source": [
    "from sklearn.preprocessing import StandardScaler\n",
    "\n",
    "std = StandardScaler()"
   ]
  },
  {
   "cell_type": "code",
   "execution_count": 100,
   "metadata": {},
   "outputs": [],
   "source": [
    "std.fit(X)\n",
    "\n",
    "# 학습 데이터 스케일링\n",
    "X_scaled = std.transform(X)\n",
    "X = X_scaled"
   ]
  },
  {
   "cell_type": "code",
   "execution_count": 101,
   "metadata": {},
   "outputs": [
    {
     "data": {
      "text/plain": [
       "array([[ 0.91082026,  0.07800172, -0.1105849 , ..., -0.11113174,\n",
       "         0.02988006,  0.00529606],\n",
       "       [ 1.4318847 ,  0.26557253, -0.11031832, ..., -0.11104515,\n",
       "        -0.00160916,  0.12070614],\n",
       "       [ 1.4060321 , -0.06201726, -0.11138301, ..., -0.11111377,\n",
       "         0.04877682, -0.10461618],\n",
       "       ...,\n",
       "       [ 1.39459831, -0.00762726, -0.11119816, ..., -0.11136047,\n",
       "         0.14513459,  0.32817074],\n",
       "       [ 1.39933677, -0.02514824, -0.11125831, ..., -0.11133869,\n",
       "         0.13374734,  0.41897873],\n",
       "       [ 1.39999034, -0.01976815, -0.1112407 , ..., -0.11135612,\n",
       "         0.11281607,  0.42591892]])"
      ]
     },
     "execution_count": 101,
     "metadata": {},
     "output_type": "execute_result"
    }
   ],
   "source": [
    "X"
   ]
  },
  {
   "cell_type": "code",
   "execution_count": 102,
   "metadata": {},
   "outputs": [
    {
     "data": {
      "text/plain": [
       "(39614, 27)"
      ]
     },
     "execution_count": 102,
     "metadata": {},
     "output_type": "execute_result"
    }
   ],
   "source": [
    "X.shape"
   ]
  },
  {
   "cell_type": "markdown",
   "metadata": {},
   "source": [
    "## PCA"
   ]
  },
  {
   "cell_type": "code",
   "execution_count": 103,
   "metadata": {},
   "outputs": [],
   "source": [
    "from sklearn import decomposition\n",
    "Pca = decomposition.PCA(n_components=5)\n",
    "x_pca = Pca.fit_transform(X)"
   ]
  },
  {
   "cell_type": "code",
   "execution_count": 104,
   "metadata": {},
   "outputs": [
    {
     "data": {
      "text/plain": [
       "array([[ 1.69881738,  0.51684734,  0.80077375,  0.58749067, -0.23572231],\n",
       "       [ 2.17290306,  1.47876426,  1.16874919,  0.31257492,  0.38623364],\n",
       "       [ 1.93395013,  1.16259043,  0.21601903,  0.14672269,  0.41211102],\n",
       "       ...,\n",
       "       [ 2.9625738 ,  2.27693639,  1.06955091, -0.3510349 , -0.22238196],\n",
       "       [ 2.86719133,  2.3039465 ,  1.08981943, -0.32662893, -0.20168974],\n",
       "       [ 2.65620987,  2.27852433,  1.141914  , -0.34405151, -0.18795266]])"
      ]
     },
     "execution_count": 104,
     "metadata": {},
     "output_type": "execute_result"
    }
   ],
   "source": [
    "x_pca"
   ]
  },
  {
   "cell_type": "code",
   "execution_count": 105,
   "metadata": {},
   "outputs": [
    {
     "data": {
      "text/plain": [
       "(39614, 5)"
      ]
     },
     "execution_count": 105,
     "metadata": {},
     "output_type": "execute_result"
    }
   ],
   "source": [
    "x_pca.shape"
   ]
  },
  {
   "cell_type": "code",
   "execution_count": 106,
   "metadata": {},
   "outputs": [],
   "source": [
    "pca = decomposition.PCA(n_components=27)\n",
    "XX_pca = pca.fit_transform(X)"
   ]
  },
  {
   "cell_type": "code",
   "execution_count": 107,
   "metadata": {},
   "outputs": [
    {
     "data": {
      "text/plain": [
       "array([ 1.69881735e+00,  5.16847240e-01,  8.00769238e-01,  5.87486315e-01,\n",
       "       -2.35719831e-01, -4.81492745e-01, -8.24822558e-01, -9.35592809e-01,\n",
       "       -4.15753123e-01, -6.44604180e-02, -3.48547205e-01,  2.49159346e-01,\n",
       "       -9.59661736e-01, -7.68784306e-02, -1.99873074e-01,  7.12359143e-02,\n",
       "       -4.50623918e-02, -5.80973674e-02,  2.12789138e-01,  2.11878095e-01,\n",
       "       -1.23288183e-01,  5.12619350e-04,  2.56607641e-02, -5.84236721e-02,\n",
       "       -6.68083505e-02, -5.22876776e-03,  3.37145504e-02])"
      ]
     },
     "execution_count": 107,
     "metadata": {},
     "output_type": "execute_result"
    }
   ],
   "source": [
    "XX_pca[0]"
   ]
  },
  {
   "cell_type": "code",
   "execution_count": 108,
   "metadata": {},
   "outputs": [
    {
     "data": {
      "text/plain": [
       "array([[ 1.69881738,  0.51684734,  0.80077375,  0.58749067, -0.23572231],\n",
       "       [ 2.17290306,  1.47876426,  1.16874919,  0.31257492,  0.38623364],\n",
       "       [ 1.93395013,  1.16259043,  0.21601903,  0.14672269,  0.41211102],\n",
       "       ...,\n",
       "       [ 2.9625738 ,  2.27693639,  1.06955091, -0.3510349 , -0.22238196],\n",
       "       [ 2.86719133,  2.3039465 ,  1.08981943, -0.32662893, -0.20168974],\n",
       "       [ 2.65620987,  2.27852433,  1.141914  , -0.34405151, -0.18795266]])"
      ]
     },
     "execution_count": 108,
     "metadata": {},
     "output_type": "execute_result"
    }
   ],
   "source": [
    "x_pca"
   ]
  },
  {
   "cell_type": "code",
   "execution_count": null,
   "metadata": {},
   "outputs": [],
   "source": []
  },
  {
   "cell_type": "code",
   "execution_count": 109,
   "metadata": {},
   "outputs": [
    {
     "name": "stdout",
     "output_type": "stream",
     "text": [
      "[0.24602239 0.13971111 0.10230665 0.08615068 0.07283588]\n"
     ]
    }
   ],
   "source": [
    "print(Pca.explained_variance_ratio_)"
   ]
  },
  {
   "cell_type": "code",
   "execution_count": null,
   "metadata": {},
   "outputs": [],
   "source": []
  },
  {
   "cell_type": "markdown",
   "metadata": {},
   "source": [
    "## new set"
   ]
  },
  {
   "cell_type": "code",
   "execution_count": 122,
   "metadata": {},
   "outputs": [],
   "source": [
    "new = df[['Duration','FlowBytesSent','FlowSentRate','FlowBytesReceived','FlowReceivedRate','Label']]"
   ]
  },
  {
   "cell_type": "code",
   "execution_count": 123,
   "metadata": {},
   "outputs": [
    {
     "data": {
      "text/html": [
       "<div>\n",
       "<style scoped>\n",
       "    .dataframe tbody tr th:only-of-type {\n",
       "        vertical-align: middle;\n",
       "    }\n",
       "\n",
       "    .dataframe tbody tr th {\n",
       "        vertical-align: top;\n",
       "    }\n",
       "\n",
       "    .dataframe thead th {\n",
       "        text-align: right;\n",
       "    }\n",
       "</style>\n",
       "<table border=\"1\" class=\"dataframe\">\n",
       "  <thead>\n",
       "    <tr style=\"text-align: right;\">\n",
       "      <th></th>\n",
       "      <th>Duration</th>\n",
       "      <th>FlowBytesSent</th>\n",
       "      <th>FlowSentRate</th>\n",
       "      <th>FlowBytesReceived</th>\n",
       "      <th>FlowReceivedRate</th>\n",
       "      <th>Label</th>\n",
       "    </tr>\n",
       "  </thead>\n",
       "  <tbody>\n",
       "    <tr>\n",
       "      <th>0</th>\n",
       "      <td>95.081550</td>\n",
       "      <td>62311</td>\n",
       "      <td>655.342703</td>\n",
       "      <td>65358</td>\n",
       "      <td>687.388878</td>\n",
       "      <td>0</td>\n",
       "    </tr>\n",
       "    <tr>\n",
       "      <th>1</th>\n",
       "      <td>122.309318</td>\n",
       "      <td>93828</td>\n",
       "      <td>767.136973</td>\n",
       "      <td>101232</td>\n",
       "      <td>827.672018</td>\n",
       "      <td>0</td>\n",
       "    </tr>\n",
       "    <tr>\n",
       "      <th>2</th>\n",
       "      <td>120.958413</td>\n",
       "      <td>38784</td>\n",
       "      <td>320.639127</td>\n",
       "      <td>38236</td>\n",
       "      <td>316.108645</td>\n",
       "      <td>0</td>\n",
       "    </tr>\n",
       "    <tr>\n",
       "      <th>3</th>\n",
       "      <td>110.501080</td>\n",
       "      <td>61993</td>\n",
       "      <td>561.017141</td>\n",
       "      <td>69757</td>\n",
       "      <td>631.278898</td>\n",
       "      <td>0</td>\n",
       "    </tr>\n",
       "    <tr>\n",
       "      <th>4</th>\n",
       "      <td>54.229891</td>\n",
       "      <td>83641</td>\n",
       "      <td>1542.341289</td>\n",
       "      <td>76804</td>\n",
       "      <td>1416.266907</td>\n",
       "      <td>0</td>\n",
       "    </tr>\n",
       "    <tr>\n",
       "      <th>...</th>\n",
       "      <td>...</td>\n",
       "      <td>...</td>\n",
       "      <td>...</td>\n",
       "      <td>...</td>\n",
       "      <td>...</td>\n",
       "      <td>...</td>\n",
       "    </tr>\n",
       "    <tr>\n",
       "      <th>39609</th>\n",
       "      <td>120.489229</td>\n",
       "      <td>24155</td>\n",
       "      <td>200.474351</td>\n",
       "      <td>39526</td>\n",
       "      <td>328.045920</td>\n",
       "      <td>1</td>\n",
       "    </tr>\n",
       "    <tr>\n",
       "      <th>39610</th>\n",
       "      <td>120.522576</td>\n",
       "      <td>51632</td>\n",
       "      <td>428.401066</td>\n",
       "      <td>32080</td>\n",
       "      <td>266.174198</td>\n",
       "      <td>1</td>\n",
       "    </tr>\n",
       "    <tr>\n",
       "      <th>39611</th>\n",
       "      <td>120.360950</td>\n",
       "      <td>47923</td>\n",
       "      <td>398.160699</td>\n",
       "      <td>88167</td>\n",
       "      <td>732.521636</td>\n",
       "      <td>1</td>\n",
       "    </tr>\n",
       "    <tr>\n",
       "      <th>39612</th>\n",
       "      <td>120.608554</td>\n",
       "      <td>44979</td>\n",
       "      <td>372.933747</td>\n",
       "      <td>86529</td>\n",
       "      <td>717.436675</td>\n",
       "      <td>1</td>\n",
       "    </tr>\n",
       "    <tr>\n",
       "      <th>39613</th>\n",
       "      <td>120.642706</td>\n",
       "      <td>45883</td>\n",
       "      <td>380.321376</td>\n",
       "      <td>89641</td>\n",
       "      <td>743.028758</td>\n",
       "      <td>1</td>\n",
       "    </tr>\n",
       "  </tbody>\n",
       "</table>\n",
       "<p>39614 rows × 6 columns</p>\n",
       "</div>"
      ],
      "text/plain": [
       "         Duration  FlowBytesSent  FlowSentRate  FlowBytesReceived  \\\n",
       "0       95.081550          62311    655.342703              65358   \n",
       "1      122.309318          93828    767.136973             101232   \n",
       "2      120.958413          38784    320.639127              38236   \n",
       "3      110.501080          61993    561.017141              69757   \n",
       "4       54.229891          83641   1542.341289              76804   \n",
       "...           ...            ...           ...                ...   \n",
       "39609  120.489229          24155    200.474351              39526   \n",
       "39610  120.522576          51632    428.401066              32080   \n",
       "39611  120.360950          47923    398.160699              88167   \n",
       "39612  120.608554          44979    372.933747              86529   \n",
       "39613  120.642706          45883    380.321376              89641   \n",
       "\n",
       "       FlowReceivedRate  Label  \n",
       "0            687.388878      0  \n",
       "1            827.672018      0  \n",
       "2            316.108645      0  \n",
       "3            631.278898      0  \n",
       "4           1416.266907      0  \n",
       "...                 ...    ...  \n",
       "39609        328.045920      1  \n",
       "39610        266.174198      1  \n",
       "39611        732.521636      1  \n",
       "39612        717.436675      1  \n",
       "39613        743.028758      1  \n",
       "\n",
       "[39614 rows x 6 columns]"
      ]
     },
     "execution_count": 123,
     "metadata": {},
     "output_type": "execute_result"
    }
   ],
   "source": [
    "new"
   ]
  },
  {
   "cell_type": "code",
   "execution_count": 124,
   "metadata": {},
   "outputs": [],
   "source": [
    "X = new.drop(['Label'],axis=1)\n",
    "y = new['Label']"
   ]
  },
  {
   "cell_type": "code",
   "execution_count": 139,
   "metadata": {},
   "outputs": [
    {
     "data": {
      "text/plain": [
       "array([[ 0.91082026,  0.07800172, -0.1105849 ,  0.08543363, -0.12146393],\n",
       "       [ 1.4318847 ,  0.26557253, -0.11031832,  0.30044456, -0.12091597],\n",
       "       [ 1.4060321 , -0.06201726, -0.11138301, -0.07712216, -0.12291418],\n",
       "       ...,\n",
       "       [ 1.39459831, -0.00762726, -0.11119816,  0.22213945, -0.12128763],\n",
       "       [ 1.39933677, -0.02514824, -0.11125831,  0.21232209, -0.12134656],\n",
       "       [ 1.39999034, -0.01976815, -0.1112407 ,  0.23097387, -0.12124659]])"
      ]
     },
     "execution_count": 139,
     "metadata": {},
     "output_type": "execute_result"
    }
   ],
   "source": [
    "X"
   ]
  },
  {
   "cell_type": "code",
   "execution_count": 125,
   "metadata": {},
   "outputs": [],
   "source": [
    "from sklearn.preprocessing import StandardScaler\n",
    "\n",
    "std = StandardScaler()"
   ]
  },
  {
   "cell_type": "code",
   "execution_count": 126,
   "metadata": {},
   "outputs": [],
   "source": [
    "std.fit(X)\n",
    "\n",
    "# 학습 데이터 스케일링\n",
    "X_scaled = std.transform(X)\n",
    "X = X_scaled"
   ]
  },
  {
   "cell_type": "code",
   "execution_count": null,
   "metadata": {},
   "outputs": [],
   "source": []
  },
  {
   "cell_type": "code",
   "execution_count": null,
   "metadata": {},
   "outputs": [],
   "source": []
  },
  {
   "cell_type": "code",
   "execution_count": null,
   "metadata": {},
   "outputs": [],
   "source": []
  },
  {
   "cell_type": "code",
   "execution_count": 133,
   "metadata": {},
   "outputs": [],
   "source": [
    "#train:validation:test = 6:2:2\n",
    "\n",
    "from sklearn.model_selection import train_test_split\n",
    "\n",
    "X_train, X_test, y_train, y_test = train_test_split(X,y,test_size=0.2, random_state=1)\n",
    "\n",
    "X_train, X_val, y_train, y_val = train_test_split(X_train, y_train, test_size = 0.2, random_state=1)"
   ]
  },
  {
   "cell_type": "code",
   "execution_count": 134,
   "metadata": {},
   "outputs": [
    {
     "data": {
      "text/plain": [
       "array([[-0.90694852, -0.27788706, -0.0495093 , -0.29374534, -0.03865664],\n",
       "       [-0.90666701, -0.28669516, -0.08984476, -0.28450336,  0.00453434],\n",
       "       [ 1.42762674, -0.21161803, -0.11188104, -0.16745623, -0.12340781],\n",
       "       ...,\n",
       "       [-0.90848026, -0.29181933, -0.0859892 , -0.30566042, -0.09783767],\n",
       "       [-0.65165854, -0.19281751, -0.10916487, -0.14214567, -0.11618677],\n",
       "       [ 1.39535832,  0.76080184, -0.1086413 ,  1.45322295, -0.1146248 ]])"
      ]
     },
     "execution_count": 134,
     "metadata": {},
     "output_type": "execute_result"
    }
   ],
   "source": [
    "X_train"
   ]
  },
  {
   "cell_type": "code",
   "execution_count": 135,
   "metadata": {},
   "outputs": [
    {
     "data": {
      "text/plain": [
       "11379    0\n",
       "38411    1\n",
       "21524    1\n",
       "29942    1\n",
       "4655     0\n",
       "        ..\n",
       "12696    0\n",
       "20986    1\n",
       "37963    1\n",
       "1873     0\n",
       "9421     0\n",
       "Name: Label, Length: 6339, dtype: int64"
      ]
     },
     "execution_count": 135,
     "metadata": {},
     "output_type": "execute_result"
    }
   ],
   "source": [
    "y_val"
   ]
  },
  {
   "cell_type": "code",
   "execution_count": null,
   "metadata": {},
   "outputs": [],
   "source": []
  },
  {
   "cell_type": "markdown",
   "metadata": {},
   "source": [
    "pilot Logistic Regression"
   ]
  },
  {
   "cell_type": "code",
   "execution_count": 113,
   "metadata": {},
   "outputs": [],
   "source": [
    "from sklearn import datasets\n",
    "import numpy as np\n",
    "import pandas as pd\n",
    "import sklearn\n",
    "from sklearn.linear_model import LogisticRegression"
   ]
  },
  {
   "cell_type": "code",
   "execution_count": 136,
   "metadata": {},
   "outputs": [],
   "source": [
    "#모델 만들기\n",
    "model = LogisticRegression(class_weight='balanced')\n",
    "\n",
    "param_grid = {'C': [1, 10, 100, 1000]}\n",
    "clf = sklearn.model_selection.GridSearchCV(model, param_grid)\n",
    "\n",
    "# 모델 학습\n",
    "model = model.fit(X_train, y_train)"
   ]
  },
  {
   "cell_type": "code",
   "execution_count": 137,
   "metadata": {},
   "outputs": [],
   "source": [
    "# 학습시킨 모델에 test\n",
    "predictions = model.predict(X_test)"
   ]
  },
  {
   "cell_type": "code",
   "execution_count": 138,
   "metadata": {},
   "outputs": [
    {
     "name": "stdout",
     "output_type": "stream",
     "text": [
      "accuracy:  0.6096175691026127\n",
      "recall:  0.44283903675538655\n",
      "precision:  0.6612414837244511\n",
      "f1 score:  0.5984748959802888\n"
     ]
    }
   ],
   "source": [
    "from sklearn.metrics import accuracy_score, recall_score, precision_score, f1_score\n",
    "\n",
    "print(\"accuracy: \", accuracy_score(y_test, predictions))\n",
    "print(\"recall: \", recall_score(y_test, predictions, zero_division=1))\n",
    "print(\"precision: \", precision_score(y_test, predictions, zero_division=1))\n",
    "print(\"f1 score: \" ,f1_score(y_test, predictions,  average='weighted'))"
   ]
  },
  {
   "cell_type": "code",
   "execution_count": null,
   "metadata": {},
   "outputs": [],
   "source": []
  },
  {
   "cell_type": "code",
   "execution_count": null,
   "metadata": {},
   "outputs": [],
   "source": []
  },
  {
   "cell_type": "code",
   "execution_count": null,
   "metadata": {},
   "outputs": [],
   "source": []
  }
 ],
 "metadata": {
  "kernelspec": {
   "display_name": "Python 3",
   "language": "python",
   "name": "python3"
  },
  "language_info": {
   "codemirror_mode": {
    "name": "ipython",
    "version": 3
   },
   "file_extension": ".py",
   "mimetype": "text/x-python",
   "name": "python",
   "nbconvert_exporter": "python",
   "pygments_lexer": "ipython3",
   "version": "3.8.5"
  }
 },
 "nbformat": 4,
 "nbformat_minor": 4
}
